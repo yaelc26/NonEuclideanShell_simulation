{
 "cells": [
  {
   "cell_type": "markdown",
   "id": "206ba09f",
   "metadata": {},
   "source": [
    "# RunShell Input File Generator"
   ]
  },
  {
   "cell_type": "code",
   "execution_count": 2,
   "id": "24a474bd",
   "metadata": {},
   "outputs": [],
   "source": [
    "%reload_ext autoreload\n",
    "%autoreload 2\n"
   ]
  },
  {
   "cell_type": "markdown",
   "id": "76e11506",
   "metadata": {},
   "source": [
    "## create dir"
   ]
  },
  {
   "cell_type": "code",
   "execution_count": 3,
   "id": "f2ca3871",
   "metadata": {},
   "outputs": [],
   "source": [
    "import os\n",
    "sim_name = 'gamma4'\n",
    "\n",
    "cwd        = os.getcwd()\n",
    "output_dir = os.path.join(cwd, 'NewSims', sim_name)\n",
    "os.makedirs(output_dir, exist_ok=True)\n",
    "\n",
    "# print(os.getcwd())\n",
    "# print(\"Contents of\", os.path.dirname(output_dir), \"→\", os.listdir(os.path.dirname(output_dir)))\n",
    "# print(\"Contents of\", output_dir, \"→\", os.listdir(output_dir))"
   ]
  },
  {
   "cell_type": "markdown",
   "id": "b5580f83",
   "metadata": {},
   "source": [
    "## create all input files"
   ]
  },
  {
   "cell_type": "code",
   "execution_count": null,
   "id": "9e123023",
   "metadata": {},
   "outputs": [],
   "source": [
    "from generate_inputs import *\n",
    "\n",
    "domain_params = [ 3, 5, -1, 1 ]\n",
    "create_input_files(\n",
    "    sim_name     = sim_name,\n",
    "    output_dir   = output_dir,\n",
    "    domain_type  = 'rectangle',\n",
    "    domain_params = domain_params\n",
    ",\n",
    "    max_area     = 0.05,\n",
    "    tols = (0,0)\n",
    ")\n"
   ]
  },
  {
   "cell_type": "markdown",
   "id": "3203f24b",
   "metadata": {},
   "source": [
    "## Initial configuration"
   ]
  },
  {
   "cell_type": "code",
   "execution_count": null,
   "id": "469399b8",
   "metadata": {},
   "outputs": [],
   "source": [
    "\n",
    "from generate_inputs import plot_uv_surface, func_to_matlab_str\n",
    "x = lambda u,v: u\n",
    "y = lambda u,v: v\n",
    "z = lambda u,v: 0 #np.sin(u)*np.cos(v)\n",
    "umin = domain_params[0]\n",
    "umax = domain_params[1]\n",
    "vmin = domain_params[2] \n",
    "vmax = domain_params[3]\n",
    "# plot_uv_surface(x, y, z, umin, umax, vmin, vmax)\n",
    "\n",
    "xpos = func_to_matlab_str(x)  \n",
    "ypos = func_to_matlab_str(y)\n",
    "zpos = func_to_matlab_str(z) \n",
    "print(xpos)\n",
    "print(ypos)\n",
    "print(zpos)\n"
   ]
  },
  {
   "cell_type": "markdown",
   "id": "c16eddc6",
   "metadata": {},
   "source": [
    "## GammaBar"
   ]
  },
  {
   "cell_type": "code",
   "execution_count": null,
   "id": "5fcbd91b",
   "metadata": {},
   "outputs": [],
   "source": [
    "import sympy as sp\n",
    "from generate_inputs import calc_Gamma\n",
    "\n",
    "u = sp.Symbol('u')\n",
    "v = sp.Symbol('v')\n",
    "\n",
    "#  example metric \n",
    "a = sp.Matrix([[1, 0], [0, u**2]])\n",
    "Gamma_str = calc_Gamma(a, u, v)\n",
    "\n",
    "print(Gamma_str)"
   ]
  },
  {
   "cell_type": "markdown",
   "id": "1c3a6f08",
   "metadata": {},
   "source": [
    "## Params"
   ]
  },
  {
   "cell_type": "code",
   "execution_count": null,
   "id": "be5c7088",
   "metadata": {},
   "outputs": [],
   "source": [
    "thickness = 0.1\n",
    "YoungsModulus = 10\n",
    "PoisonRatio = 0.3\n",
    "# \"Lamme parameters\" for connection energy\n",
    "lambdaG = 100\n",
    "muG = 100\n"
   ]
  },
  {
   "cell_type": "markdown",
   "id": "e98de2ae",
   "metadata": {},
   "source": [
    "## Generate RunShell input file"
   ]
  },
  {
   "cell_type": "code",
   "execution_count": null,
   "id": "4e3685f3",
   "metadata": {},
   "outputs": [],
   "source": [
    "from generate_inputs import make_in_file\n",
    "output_dir = os.path.join(cwd, 'NewSims', sim_name)\n",
    "params = {\n",
    "    'vertices_file': os.path.relpath(os.path.join(output_dir, f\"{sim_name}_Vertices\"), os.getcwd()),\n",
    "    'faces_file':  os.path.relpath(os.path.join(output_dir, f\"{sim_name}_Faces\"), os.getcwd()),\n",
    "    'loops':50000,\n",
    "    'save_every':400,\n",
    "    'abar':['1','0','0','1'],\n",
    "    'bbar':['0','0','0','0'],\n",
    "    'thickness':str(thickness),\n",
    "    'E':str(YoungsModulus),\n",
    "    'nu':str(PoisonRatio),\n",
    "    'pos0':[xpos,ypos,zpos],\n",
    "    'lambdaG':str(lambdaG),\n",
    "    'muG':str(muG),\n",
    "    'gamma':Gamma_str,\n",
    "    'thickness_adjust':'100',\n",
    "    'metric_adjust':'1',\n",
    "    'restart':'1'\n",
    "}\n",
    "in_file = make_in_file(params, output_dir, sim_name)\n",
    "\n"
   ]
  },
  {
   "cell_type": "markdown",
   "id": "49c6afe8",
   "metadata": {},
   "source": [
    "# Run"
   ]
  },
  {
   "cell_type": "code",
   "execution_count": null,
   "id": "54149da7",
   "metadata": {},
   "outputs": [],
   "source": [
    "in_file_path = os.path.relpath(in_file, os.getcwd())\n",
    "!./RunShell < {in_file_path}\n"
   ]
  },
  {
   "cell_type": "code",
   "execution_count": null,
   "id": "87643163",
   "metadata": {},
   "outputs": [],
   "source": []
  }
 ],
 "metadata": {
  "kernelspec": {
   "display_name": "basic_env",
   "language": "python",
   "name": "python3"
  },
  "language_info": {
   "codemirror_mode": {
    "name": "ipython",
    "version": 3
   },
   "file_extension": ".py",
   "mimetype": "text/x-python",
   "name": "python",
   "nbconvert_exporter": "python",
   "pygments_lexer": "ipython3",
   "version": "3.12.2"
  }
 },
 "nbformat": 4,
 "nbformat_minor": 5
}
